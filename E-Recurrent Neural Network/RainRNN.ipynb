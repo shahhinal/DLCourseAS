{
 "cells": [
  {
   "cell_type": "code",
   "execution_count": 0,
   "metadata": {
    "colab": {},
    "colab_type": "code",
    "id": "PLsB9a0uMLGw"
   },
   "outputs": [],
   "source": [
    "import numpy as np\n",
    "import pandas as pd\n",
    "\n",
    "################################## LOADING DATASET ##########################################\n",
    "train_data = pd.read_csv('/RainDataset/train/train.csv', nrows=3e6)\n",
    "raw_ids_all = train_data[\"Id\"]\n",
    "raw_ids = raw_ids_all.unique()\n",
    "#checking Ref column for Nan valaues\n",
    "train_raw_tmp = train_data[~np.isnan(train_data.Ref)]\n",
    "raw_ids_tmp = train_raw_tmp[\"Id\"].unique()\n",
    "train_new = train_data[np.in1d(raw_ids_all, raw_ids_tmp)]\n",
    "#fill Nan values with zero\n",
    "train_new = train_new.fillna(0.0)"
   ]
  },
  {
   "cell_type": "code",
   "execution_count": 0,
   "metadata": {
    "colab": {},
    "colab_type": "code",
    "id": "vChhYiTgM9_u"
   },
   "outputs": [],
   "source": [
    "def pad_series(X, target_len=19):\n",
    "    #to pad array\n",
    "    seq_len = X.shape[0]\n",
    "    pad_size = target_len-seq_len\n",
    "    if (pad_size > 0):\n",
    "        X = np.pad(X, ((0,pad_size), (0,0)), 'constant', constant_values=0.)\n",
    "    return X, seq_len\n",
    "  \n",
    "THRESHOLD=70 #used for comparion with label values\n",
    "train_new_group = train_new.groupby('Id')\n",
    "df = pd.DataFrame(train_new_group['Expected'].mean())\n",
    "#get valid values and remove records that has ultimate gauge readings out of the realm of possibility. \n",
    "meaningful_ids = np.array(df[df['Expected'] < THRESHOLD].index)\n",
    "#getting final training set\n",
    "train_final = train_new[np.in1d(train_new.Id, meaningful_ids)]\n",
    "data_pd_gp = train_final.groupby(\"Id\")\n",
    "data_size = len(data_pd_gp)"
   ]
  },
  {
   "cell_type": "code",
   "execution_count": 0,
   "metadata": {
    "colab": {
     "base_uri": "https://localhost:8080/",
     "height": 33
    },
    "colab_type": "code",
    "id": "KxhiArJwNFuk",
    "outputId": "7108e57a-c1b4-4728-b0d3-fa0846cf5ffb"
   },
   "outputs": [
    {
     "data": {
      "text/plain": [
       "((157385, 19, 22), (157385,))"
      ]
     },
     "execution_count": 4,
     "metadata": {
      "tags": []
     },
     "output_type": "execute_result"
    }
   ],
   "source": [
    "#set the dimension 19x22\n",
    "INPUT_WIDTH = 19\n",
    "#declaring empty arrays for training data and its labels\n",
    "X_train = np.empty((data_size, INPUT_WIDTH, 22))\n",
    "seq_lengths = np.zeros(data_size)\n",
    "y_train = np.zeros(data_size)\n",
    "#looping through dataframe\n",
    "i = 0\n",
    "for _, group in data_pd_gp:\n",
    "    group_array = np.array(group)\n",
    "    X, seq_length = pad_series(group_array[:,1:23], target_len=INPUT_WIDTH) \n",
    "    y = group_array[0,23]\n",
    "    X_train[i,:,:] = X[:,:]\n",
    "    seq_lengths[i] = seq_length\n",
    "    y_train[i]= y\n",
    "    i += 1\n",
    "    \n",
    "X_train.shape, y_train.shape"
   ]
  },
  {
   "cell_type": "code",
   "execution_count": 0,
   "metadata": {
    "colab": {},
    "colab_type": "code",
    "id": "eUUm4hrsNIzL"
   },
   "outputs": [],
   "source": [
    "import tensorflow as tf\n",
    "#building model using keras LSTM (RNN) layer\n",
    "def get_model(shape=(19,22)):\n",
    "    model = tf.keras.models.Sequential()\n",
    "    model.add(tf.keras.layers.LSTM(128,input_shape=shape, \n",
    "                               activation='relu'))\n",
    "    model.add(tf.keras.layers.Dense(1))\n",
    "    #compiling and computing mean absolute error as loss function and adam as optimizer\n",
    "    model.compile(loss='mae', optimizer='adam')\n",
    "    return model"
   ]
  },
  {
   "cell_type": "code",
   "execution_count": 0,
   "metadata": {
    "colab": {
     "base_uri": "https://localhost:8080/",
     "height": 535
    },
    "colab_type": "code",
    "id": "CaQglnZBNL61",
    "outputId": "711dce25-60ed-4db4-834c-554fd2f30e8e"
   },
   "outputs": [
    {
     "name": "stdout",
     "output_type": "stream",
     "text": [
      "Train on 125908 samples, validate on 31477 samples\n",
      "Epoch 1/15\n",
      " - 137s - loss: 2.9048 - val_loss: 2.5580\n",
      "Epoch 2/15\n",
      " - 138s - loss: 2.6028 - val_loss: 2.5345\n",
      "Epoch 3/15\n",
      " - 136s - loss: 2.5806 - val_loss: 2.5767\n",
      "Epoch 4/15\n",
      " - 140s - loss: 2.5310 - val_loss: 2.5475\n",
      "Epoch 5/15\n",
      " - 137s - loss: 2.4512 - val_loss: 2.3894\n",
      "Epoch 6/15\n",
      " - 136s - loss: 2.3899 - val_loss: 2.3818\n",
      "Epoch 7/15\n",
      " - 141s - loss: 2.3759 - val_loss: 2.4164\n",
      "Epoch 8/15\n",
      " - 140s - loss: 2.3676 - val_loss: 2.3633\n",
      "Epoch 9/15\n",
      " - 140s - loss: 2.3457 - val_loss: 2.4294\n",
      "Epoch 10/15\n",
      " - 136s - loss: 2.3396 - val_loss: 2.3680\n",
      "Epoch 11/15\n",
      " - 137s - loss: 2.3318 - val_loss: 2.3602\n",
      "Epoch 12/15\n",
      " - 136s - loss: 2.3750 - val_loss: 2.3769\n",
      "Epoch 13/15\n",
      " - 139s - loss: 2.3580 - val_loss: 2.3382\n",
      "Epoch 14/15\n",
      " - 138s - loss: 2.3384 - val_loss: 2.3324\n",
      "Epoch 15/15\n",
      " - 137s - loss: 2.4699 - val_loss: 2.6347\n"
     ]
    }
   ],
   "source": [
    "#build model\n",
    "model = get_model()\n",
    "#train the model and splitting data into training and testing dataset (20%-testing and 80% training)\n",
    "h = model.fit(X_train, y_train, validation_split=0.2, epochs=15, verbose=2)"
   ]
  },
  {
   "cell_type": "code",
   "execution_count": 0,
   "metadata": {
    "colab": {
     "base_uri": "https://localhost:8080/",
     "height": 269
    },
    "colab_type": "code",
    "id": "kcgR0p0JOSUe",
    "outputId": "5cfb9178-006a-48be-b393-d1b771b3a990"
   },
   "outputs": [
    {
     "data": {
      "image/png": "[encoded data removed]",
      "text/plain": [
       "<Figure size 432x288 with 1 Axes>"
      ]
     },
     "metadata": {
      "tags": []
     },
     "output_type": "display_data"
    }
   ],
   "source": [
    "from matplotlib import pyplot as plt\n",
    "# plot loss for both test and train\n",
    "plt.plot(h.history['loss'], label='train')\n",
    "plt.plot(h.history['val_loss'], label='test')\n",
    "plt.legend()\n",
    "plt.show()"
   ]
  },
  {
   "cell_type": "markdown",
   "metadata": {
    "colab_type": "text",
    "id": "zoK87CdMg86Y"
   },
   "source": [
    "## **Improved Model**"
   ]
  },
  {
   "cell_type": "code",
   "execution_count": 0,
   "metadata": {
    "colab": {},
    "colab_type": "code",
    "id": "ealZcl8hD9ul"
   },
   "outputs": [],
   "source": [
    "import tensorflow as tf\n",
    "#building model with two layers\n",
    "def get_model_1(shape=(19,22)):\n",
    "    model = tf.keras.models.Sequential()\n",
    "    #setting return_sequences=true as it is used by next recurrent layer\n",
    "    model.add(tf.keras.layers.LSTM(32,input_shape=shape, \n",
    "                               activation='relu',return_sequences=True))\n",
    "    model.add(tf.keras.layers.LSTM(64, activation='relu'))\n",
    "    model.add(tf.keras.layers.Dense(1))\n",
    "    model.compile(loss='mae', optimizer='adam')\n",
    "    return model"
   ]
  },
  {
   "cell_type": "code",
   "execution_count": 0,
   "metadata": {
    "colab": {
     "base_uri": "https://localhost:8080/",
     "height": 368
    },
    "colab_type": "code",
    "id": "XUxjMzLaECUn",
    "outputId": "d42170e3-1c94-4739-a9c7-1772a23a8d93"
   },
   "outputs": [
    {
     "name": "stdout",
     "output_type": "stream",
     "text": [
      "Train on 125908 samples, validate on 31477 samples\n",
      "Epoch 1/10\n",
      " - 188s - loss: 2.4763 - val_loss: 2.3902\n",
      "Epoch 2/10\n",
      " - 187s - loss: 2.3426 - val_loss: 2.3415\n",
      "Epoch 3/10\n",
      " - 186s - loss: 2.3135 - val_loss: 2.3844\n",
      "Epoch 4/10\n",
      " - 188s - loss: 2.3071 - val_loss: 2.3228\n",
      "Epoch 5/10\n",
      " - 187s - loss: 2.2851 - val_loss: 2.2850\n",
      "Epoch 6/10\n",
      " - 185s - loss: 2.2781 - val_loss: 2.2919\n",
      "Epoch 7/10\n",
      " - 189s - loss: 2.2760 - val_loss: 2.2894\n",
      "Epoch 8/10\n",
      " - 188s - loss: 2.2713 - val_loss: 2.3715\n",
      "Epoch 9/10\n",
      " - 187s - loss: 2.2597 - val_loss: 2.3025\n",
      "Epoch 10/10\n",
      " - 187s - loss: 2.2587 - val_loss: 2.3166\n"
     ]
    }
   ],
   "source": [
    "#building model\n",
    "model = get_model_1()\n",
    "#fitting model in batches\n",
    "h = model.fit(X_train, y_train, validation_split=0.2, epochs=10, batch_size=50,verbose=2)"
   ]
  },
  {
   "cell_type": "code",
   "execution_count": 0,
   "metadata": {
    "colab": {
     "base_uri": "https://localhost:8080/",
     "height": 269
    },
    "colab_type": "code",
    "id": "YHSPAPn-EFMJ",
    "outputId": "27ea96b3-cbe7-4505-ede2-638c6dec781b"
   },
   "outputs": [
    {
     "data": {
      "image/png": "[encoded data removed]",
      "text/plain": [
       "<Figure size 432x288 with 1 Axes>"
      ]
     },
     "metadata": {
      "tags": []
     },
     "output_type": "display_data"
    }
   ],
   "source": [
    "from matplotlib import pyplot as plt\n",
    "# plot Loss of training and testing dataset\n",
    "plt.plot(h.history['loss'], label='train')\n",
    "plt.plot(h.history['val_loss'], label='test')\n",
    "plt.legend()\n",
    "plt.show()"
   ]
  },
  {
   "cell_type": "code",
   "execution_count": 0,
   "metadata": {
    "colab": {},
    "colab_type": "code",
    "id": "i3uGhMWTT5BD"
   },
   "outputs": [],
   "source": [
    "#getting test.csv records\n",
    "test_raw = pd.read_csv('/RainDataset/test/test.csv')\n",
    "test_raw_ids_all = test_raw[\"Id\"]\n",
    "#preprocess the data\n",
    "test_raw_ids = np.array(test_raw_ids_all.unique())\n",
    "test_new = test_raw.fillna(0.0)\n",
    "#getting total data size by grouping by id\n",
    "data_pd_gp = test_new.groupby(\"Id\")\n",
    "data_size = len(data_pd_gp)\n",
    "#creating empty numpy array with size calculated \n",
    "X_test = np.empty((data_size, INPUT_WIDTH, 22))\n",
    "seq_lengths = np.zeros(data_size)\n",
    "#looping through data and padding array\n",
    "i = 0\n",
    "for _, group in data_pd_gp:\n",
    "    group_array = np.array(group)\n",
    "    X, seq_length = pad_series(group_array[:,1:23], target_len=INPUT_WIDTH) \n",
    "    X_test[i,:,:] = X[:,:]\n",
    "    seq_lengths[i] = seq_length\n",
    "    i += 1"
   ]
  },
  {
   "cell_type": "code",
   "execution_count": 0,
   "metadata": {
    "colab": {
     "base_uri": "https://localhost:8080/",
     "height": 50
    },
    "colab_type": "code",
    "id": "sBZUni9QT9uB",
    "outputId": "a20dfd87-7630-4532-a93b-129c7e1eaa00"
   },
   "outputs": [
    {
     "name": "stdout",
     "output_type": "stream",
     "text": [
      "717625/717625 [==============================] - 315s 439us/sample\n",
      ".csv file generated successfully!\n"
     ]
    }
   ],
   "source": [
    "#predicting test data\n",
    "output = model.predict(X_test, batch_size=32,verbose=1)\n",
    "#creating submission file\n",
    "my_submission = pd.DataFrame({'Id': np.arange(1,output.shape[0]+1), 'Expected': output[:,0]})\n",
    "my_submission.to_csv('/RainDataset/mySubmissionFile.csv', index=False)\n",
    "print('.csv file generated successfully!')"
   ]
  },
  {
   "cell_type": "markdown",
   "metadata": {
    "colab_type": "text",
    "id": "0-LNMLcR3DiV"
   },
   "source": [
    "## **SimpleRNN**"
   ]
  },
  {
   "cell_type": "code",
   "execution_count": 0,
   "metadata": {
    "colab": {
     "base_uri": "https://localhost:8080/",
     "height": 368
    },
    "colab_type": "code",
    "id": "_ncvIkID3G21",
    "outputId": "a4401e53-748d-4a57-86da-52cd2e6e783d"
   },
   "outputs": [
    {
     "name": "stdout",
     "output_type": "stream",
     "text": [
      "Train on 125908 samples, validate on 31477 samples\n",
      "Epoch 1/10\n",
      " - 49s - loss: 2.6673 - val_loss: 2.7612\n",
      "Epoch 2/10\n",
      " - 50s - loss: 2.6567 - val_loss: 2.7407\n",
      "Epoch 3/10\n",
      " - 48s - loss: 2.6549 - val_loss: 2.7322\n",
      "Epoch 4/10\n",
      " - 49s - loss: 2.6599 - val_loss: 2.7726\n",
      "Epoch 5/10\n",
      " - 49s - loss: 2.6857 - val_loss: 2.7650\n",
      "Epoch 6/10\n",
      " - 48s - loss: 2.6805 - val_loss: 2.7838\n",
      "Epoch 7/10\n",
      " - 49s - loss: 2.7023 - val_loss: 2.7837\n",
      "Epoch 8/10\n",
      " - 50s - loss: 2.7023 - val_loss: 2.7842\n",
      "Epoch 9/10\n",
      " - 48s - loss: 2.6820 - val_loss: 2.7688\n",
      "Epoch 10/10\n",
      " - 49s - loss: 2.6821 - val_loss: 2.7819\n"
     ]
    }
   ],
   "source": [
    "from tensorflow.keras.models import Sequential\n",
    "from tensorflow.keras.layers import Embedding, SimpleRNN\n",
    "from tensorflow.keras.layers import Dense\n",
    "#features to extract\n",
    "max_features=1000\n",
    "model = Sequential()\n",
    "#building model using SimpleRNN\n",
    "model.add(SimpleRNN(64, activation='relu',input_shape = ((19,22))))\n",
    "model.add(Dense(1, activation='sigmoid'))\n",
    "#compiling model\n",
    "model.compile(optimizer='adam', loss='mae')\n",
    "#training model\n",
    "history=model.fit(X_train, y_train, validation_split=0.2, epochs=10, verbose=2)"
   ]
  },
  {
   "cell_type": "code",
   "execution_count": 0,
   "metadata": {
    "colab": {
     "base_uri": "https://localhost:8080/",
     "height": 269
    },
    "colab_type": "code",
    "id": "psVHN19-_-S6",
    "outputId": "2777b11d-3d95-41ca-9671-4d6d16a3124f"
   },
   "outputs": [
    {
     "data": {
      "image/png": "[encoded data removed]",
      "text/plain": [
       "<Figure size 432x288 with 1 Axes>"
      ]
     },
     "metadata": {
      "tags": []
     },
     "output_type": "display_data"
    }
   ],
   "source": [
    "from matplotlib import pyplot as plt\n",
    "# plot history\n",
    "plt.plot(history.history['loss'], label='train')\n",
    "plt.plot(history.history['val_loss'], label='test')\n",
    "plt.legend()\n",
    "plt.show()"
   ]
  },
  {
   "cell_type": "markdown",
   "metadata": {
    "colab_type": "text",
    "id": "PEIcHq7gt9YU"
   },
   "source": [
    "## **Using Bi-directional**"
   ]
  },
  {
   "cell_type": "code",
   "execution_count": 0,
   "metadata": {
    "colab": {
     "base_uri": "https://localhost:8080/",
     "height": 33
    },
    "colab_type": "code",
    "id": "4pRE6UtoQ7yi",
    "outputId": "1ead9206-5ada-4dda-c788-b168e275d0c4"
   },
   "outputs": [
    {
     "name": "stderr",
     "output_type": "stream",
     "text": [
      "Using TensorFlow backend.\n"
     ]
    }
   ],
   "source": [
    "############### importing libraries ################\n",
    "from keras.layers import (\n",
    "    Input,\n",
    "    Dense,\n",
    "    LSTM,\n",
    "    AveragePooling1D,\n",
    "    TimeDistributed,\n",
    "    Flatten,\n",
    "    Bidirectional,\n",
    "    Dropout\n",
    ")\n",
    "from keras.models import Model\n",
    "#building model\n",
    "def get_model2(shape=(19, 22)):\n",
    "    inp = Input(shape)\n",
    "    x = Dense(16)(inp)\n",
    "    #Bidirectional layer connects two hidden layer in opposite direction\n",
    "    x = Bidirectional(LSTM(128, return_sequences=True))(x)\n",
    "    #allows you to apply that Dense function across every output over time\n",
    "    x = TimeDistributed(Dense(128))(x)\n",
    "    x = Bidirectional(LSTM(128, return_sequences=True))(x)\n",
    "    x = TimeDistributed(Dense(1))(x)\n",
    "    #pooling using average method\n",
    "    x = AveragePooling1D()(x)\n",
    "    x = Flatten()(x)\n",
    "    #using dropout layer\n",
    "    x = Dropout(0.3)(x)\n",
    "    x = Dense(1)(x)\n",
    "\n",
    "    model = Model(inp, x)\n",
    "    return model"
   ]
  },
  {
   "cell_type": "code",
   "execution_count": 0,
   "metadata": {
    "colab": {
     "base_uri": "https://localhost:8080/",
     "height": 589
    },
    "colab_type": "code",
    "id": "4RQwucaNudng",
    "outputId": "9ba38acc-e4ed-4510-ae21-5c89d20d6584"
   },
   "outputs": [
    {
     "name": "stdout",
     "output_type": "stream",
     "text": [
      "WARNING:tensorflow:From /usr/local/lib/python3.6/dist-packages/tensorflow/python/framework/op_def_library.py:263: colocate_with (from tensorflow.python.framework.ops) is deprecated and will be removed in a future version.\n",
      "Instructions for updating:\n",
      "Colocations handled automatically by placer.\n",
      "WARNING:tensorflow:From /usr/local/lib/python3.6/dist-packages/keras/backend/tensorflow_backend.py:3445: calling dropout (from tensorflow.python.ops.nn_ops) with keep_prob is deprecated and will be removed in a future version.\n",
      "Instructions for updating:\n",
      "Please use `rate` instead of `keep_prob`. Rate should be set to `rate = 1 - keep_prob`.\n",
      "_________________________________________________________________\n",
      "Layer (type)                 Output Shape              Param #   \n",
      "=================================================================\n",
      "input_1 (InputLayer)         (None, 19, 22)            0         \n",
      "_________________________________________________________________\n",
      "dense_1 (Dense)              (None, 19, 16)            368       \n",
      "_________________________________________________________________\n",
      "bidirectional_1 (Bidirection (None, 19, 256)           148480    \n",
      "_________________________________________________________________\n",
      "time_distributed_1 (TimeDist (None, 19, 128)           32896     \n",
      "_________________________________________________________________\n",
      "bidirectional_2 (Bidirection (None, 19, 256)           263168    \n",
      "_________________________________________________________________\n",
      "time_distributed_2 (TimeDist (None, 19, 1)             257       \n",
      "_________________________________________________________________\n",
      "average_pooling1d_1 (Average (None, 9, 1)              0         \n",
      "_________________________________________________________________\n",
      "flatten_1 (Flatten)          (None, 9)                 0         \n",
      "_________________________________________________________________\n",
      "dropout_1 (Dropout)          (None, 9)                 0         \n",
      "_________________________________________________________________\n",
      "dense_4 (Dense)              (None, 1)                 10        \n",
      "=================================================================\n",
      "Total params: 445,179\n",
      "Trainable params: 445,179\n",
      "Non-trainable params: 0\n",
      "_________________________________________________________________\n"
     ]
    }
   ],
   "source": [
    "BATCH_SIZE = 100\n",
    "N_EPOCHS = 10\n",
    "#using earlystopping if no improvment observed\n",
    "#ReduceLROnPlateau to update the learning rate by factor 0.1\n",
    "from keras.callbacks import EarlyStopping, ReduceLROnPlateau\n",
    "early_stopping = EarlyStopping(monitor='val_loss', min_delta=0, patience=5)\n",
    "reduce_lr = ReduceLROnPlateau(monitor='val_loss', factor=0.1, patience=3, min_delta=0.01)\n",
    "#building model\n",
    "model = get_model2((19,22))\n",
    "#comiling model\n",
    "model.compile(optimizer='adam', loss='mae',)\n",
    "model.summary()"
   ]
  },
  {
   "cell_type": "code",
   "execution_count": 0,
   "metadata": {
    "colab": {
     "base_uri": "https://localhost:8080/",
     "height": 438
    },
    "colab_type": "code",
    "id": "pCdafPIKR8DY",
    "outputId": "6ab818e6-ba8b-4c04-fd23-900f66dbd410"
   },
   "outputs": [
    {
     "name": "stdout",
     "output_type": "stream",
     "text": [
      "WARNING:tensorflow:From /usr/local/lib/python3.6/dist-packages/tensorflow/python/ops/math_ops.py:3066: to_int32 (from tensorflow.python.ops.math_ops) is deprecated and will be removed in a future version.\n",
      "Instructions for updating:\n",
      "Use tf.cast instead.\n",
      "Train on 125908 samples, validate on 31477 samples\n",
      "Epoch 1/10\n",
      "125908/125908 [==============================] - 167s 1ms/step - loss: 2.4398 - val_loss: 2.2976\n",
      "Epoch 2/10\n",
      "125908/125908 [==============================] - 163s 1ms/step - loss: 2.3431 - val_loss: 2.3628\n",
      "Epoch 3/10\n",
      "125908/125908 [==============================] - 163s 1ms/step - loss: 2.3159 - val_loss: 2.2913\n",
      "Epoch 4/10\n",
      "125908/125908 [==============================] - 163s 1ms/step - loss: 2.3041 - val_loss: 2.2704\n",
      "Epoch 5/10\n",
      "125908/125908 [==============================] - 165s 1ms/step - loss: 2.2934 - val_loss: 2.2744\n",
      "Epoch 6/10\n",
      "125908/125908 [==============================] - 165s 1ms/step - loss: 2.2825 - val_loss: 2.2804\n",
      "Epoch 7/10\n",
      "125908/125908 [==============================] - 163s 1ms/step - loss: 2.2683 - val_loss: 2.2904\n",
      "Epoch 8/10\n",
      "125908/125908 [==============================] - 160s 1ms/step - loss: 2.2150 - val_loss: 2.2354\n",
      "Epoch 9/10\n",
      "125908/125908 [==============================] - 161s 1ms/step - loss: 2.2002 - val_loss: 2.2399\n",
      "Epoch 10/10\n",
      "125908/125908 [==============================] - 159s 1ms/step - loss: 2.1843 - val_loss: 2.2363\n"
     ]
    }
   ],
   "source": [
    "#training model in batches\n",
    "h=model.fit(X_train, y_train, \n",
    "            batch_size=BATCH_SIZE, epochs=N_EPOCHS, \n",
    "            validation_split=0.2, callbacks=[early_stopping, reduce_lr])"
   ]
  },
  {
   "cell_type": "code",
   "execution_count": 0,
   "metadata": {
    "colab": {
     "base_uri": "https://localhost:8080/",
     "height": 269
    },
    "colab_type": "code",
    "id": "Q8pOzPZzR5ue",
    "outputId": "89853c61-f4aa-4a28-a1e0-037f163bbc55"
   },
   "outputs": [
    {
     "data": {
      "image/png": "[encoded data removed]",
      "text/plain": [
       "<Figure size 432x288 with 1 Axes>"
      ]
     },
     "metadata": {
      "tags": []
     },
     "output_type": "display_data"
    }
   ],
   "source": [
    "from matplotlib import pyplot as plt\n",
    "# plot loss for training and testing dataset\n",
    "plt.plot(h.history['loss'], label='train')\n",
    "plt.plot(h.history['val_loss'], label='test')\n",
    "plt.legend()\n",
    "plt.show()"
   ]
  }
 ],
 "metadata": {
  "accelerator": "GPU",
  "colab": {
   "collapsed_sections": [],
   "name": "RainRNN.ipynb",
   "provenance": [],
   "toc_visible": true,
   "version": "0.3.2"
  },
  "kernelspec": {
   "display_name": "Python 3",
   "language": "python",
   "name": "python3"
  },
  "language_info": {
   "codemirror_mode": {
    "name": "ipython",
    "version": 3
   },
   "file_extension": ".py",
   "mimetype": "text/x-python",
   "name": "python",
   "nbconvert_exporter": "python",
   "pygments_lexer": "ipython3",
   "version": "3.6.4"
  }
 },
 "nbformat": 4,
 "nbformat_minor": 1
}
