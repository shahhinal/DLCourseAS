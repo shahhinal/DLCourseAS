{
 "cells": [
  {
   "cell_type": "markdown",
   "metadata": {},
   "source": [
    "## Compute Gradients Using Tensorflow Autodiff (Task 4)"
   ]
  },
  {
   "cell_type": "code",
   "execution_count": 3,
   "metadata": {
    "colab": {
     "base_uri": "https://localhost:8080/",
     "height": 67
    },
    "colab_type": "code",
    "id": "rG9sLFF_EFk-",
    "outputId": "3c507326-5206-4a7f-875f-05d459dc18f6"
   },
   "outputs": [
    {
     "name": "stdout",
     "output_type": "stream",
     "text": [
      "Loss Function value when w0=2,w1=3 : tf.Tensor(35.0, shape=(), dtype=float32)\n",
      "Gradient with respect to w0: tf.Tensor(39.0, shape=(), dtype=float32)\n",
      "Gradient with respect to w1: tf.Tensor(11.0, shape=(), dtype=float32)\n"
     ]
    }
   ],
   "source": [
    "import tensorflow as tf\n",
    "#allows to run tensorflow code without creating graph\n",
    "tf.enable_eager_execution()\n",
    "\n",
    "################################ STEP 1: INITIALIZE VARIABLES AND CONSTANT ###################################################\n",
    "#Compute loss function = (w0^3)*w1 + w0*w1 + w1 + 2\n",
    "# Declaring two weights w0 and w1 with values 2, 3 and constant with value 2\n",
    "w0 = tf.Variable(2.0)  # Create a Tensorflow variable initialized to 1.0\n",
    "w1 = tf.Variable(3.0)\n",
    "\n",
    "##################################### STEP 2: USE tf.GradientTape() ######################################################\n",
    "#tf.GradientTape(): it records operations for automatic differentiation.\n",
    "with tf.GradientTape() as t:\n",
    "    y = (w0*w0*w0) * w1 + w0*w1 + w1 +2\n",
    "    # Compute the gradient at w0\n",
    "    dy_dw0 = t.gradient(y, w0)\n",
    "\n",
    "with tf.GradientTape() as t:\n",
    "    y = (w0*w0*w0) * w1 + w0*w1 + w1 +2\n",
    "    # Compute the gradient at w1\n",
    "    dy_dw1 = t.gradient(y, w1)\n",
    "##################################### STEP 3: PRINT LOSS AND GRADIENTS ######################################################\n",
    "print('Loss Function value when w0=2,w1=3 :',y)\n",
    "print('Gradient with respect to w0:',dy_dw0)\n",
    "print('Gradient with respect to w1:',dy_dw1)"
   ]
  }
 ],
 "metadata": {
  "colab": {
   "collapsed_sections": [],
   "name": "ComputeGradientUsingTensorflowAutodiff.ipynb",
   "provenance": [],
   "version": "0.3.2"
  },
  "kernelspec": {
   "display_name": "Python 3",
   "language": "python",
   "name": "python3"
  },
  "language_info": {
   "codemirror_mode": {
    "name": "ipython",
    "version": 3
   },
   "file_extension": ".py",
   "mimetype": "text/x-python",
   "name": "python",
   "nbconvert_exporter": "python",
   "pygments_lexer": "ipython3",
   "version": "3.6.4"
  }
 },
 "nbformat": 4,
 "nbformat_minor": 1
}
